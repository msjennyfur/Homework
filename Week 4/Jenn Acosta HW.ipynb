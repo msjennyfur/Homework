{
 "cells": [
  {
   "cell_type": "markdown",
   "metadata": {},
   "source": [
    "#<ins>**Use markdown to answe the following questions**<ins>"
   ]
  },
  {
   "cell_type": "markdown",
   "metadata": {},
   "source": [
    "##1.What does one need to do to use a module?\n",
    "\n",
    "####If we want to ise code from a module or a library, we need to import it the respective module into our code-base.\n",
    "\n",
    "##2.Name a Module (not the DateTime Module) we looked at and write a line or 2 as a example using this module.\n",
    "\n",
    "####We looked at the math module. We can use the math module to do math operations such as square root, pi, etc.\n",
    "\n",
    "##3.What is a benefit of using exception handling?\n",
    "\n",
    "####Exception handling is a way to handle errors in a way that doesn't break the program. It allows the program to continue running even if there is an error.\n",
    "\n",
    "##4.What are the 4 components used for Python Exception Handling?\n",
    "\n",
    "####The 4 components used for Python Exception Handling are try, except, else, and finally.\n",
    "\n",
    "##5.NumPy arrays are like what Python data type?\n",
    "\n",
    "####NumPy arrays are like Python lists.\n",
    "\n",
    "##6.What is one of the main benefits of using NumPy arrays.\n",
    "\n",
    "####One of the main benefits of using NumPy arrays is that they are faster than Python lists.\n",
    "\n",
    "##7.What is one of the main requirements about the 'dtype' of NumPy arrays?\n",
    "\n",
    "####One of the main requirements about the 'dtype' of NumPy arrays is that all elements in the array must be of the same data type.\n",
    "\n",
    "##8.Of the 10 uses of NumPy, name 2.\n",
    "\n",
    "####Two uses of NumPy are to perform mathematical and logical operations on arrays and to manipulate arrays.\n",
    "\n",
    "##9.Name one of the other libraries we'll use with NumPy?\n",
    "\n",
    "####One of the other libraries we'll use with NumPy is Pandas, SciPy, and Matplotlib.\n",
    "\n",
    "##10.What is the shape of NumPy arrays?\n",
    "\n",
    "####The number of dimensions and items in an array is defines its shape.\n",
    "\n",
    "##11.What is a Tensor?\n",
    "\n",
    "####A tensor is a multidimensional array.\n",
    "\n",
    "##12.Name a reason why it's better using NumPy for Data Analysis than using a Python List?\n",
    "\n",
    "####It's better using NumPy for Data Analysis than using a Python List because NumPy is faster than Python lists.\n",
    "\n",
    "##13.When creating an \"empty\" array, where do the elements come from?\n",
    "\n",
    "####When creating an \"empty\" array, the elements come from the memory.\n",
    "\n"
   ]
  },
  {
   "cell_type": "markdown",
   "metadata": {},
   "source": [
    "#**Flow Control Methods**"
   ]
  },
  {
   "cell_type": "code",
   "execution_count": 11,
   "metadata": {},
   "outputs": [
    {
     "name": "stdout",
     "output_type": "stream",
     "text": [
      "Renting a car is more affordable\n"
     ]
    }
   ],
   "source": [
    "#1 Create an if statement: if 'age' is greater than or equal to 25, print \"Renting a car is more affordable\", \n",
    "#however if 'age' is less than 25, print \"Renting a car is very expensive.\"\n",
    "age = (int(input(\"Enter age:\")))\n",
    "\n",
    "if age >= 25:\n",
    "    print(\"Renting a car is more affordable\")\n",
    "else:\n",
    "    print(\"Renting a car is expensive\")"
   ]
  },
  {
   "cell_type": "code",
   "execution_count": 12,
   "metadata": {},
   "outputs": [
    {
     "name": "stdout",
     "output_type": "stream",
     "text": [
      "Renting a car is expensive.\n"
     ]
    }
   ],
   "source": [
    "#2 Create and chain an if-else statement: if 'age' is greater than or equal to 25, print \"Renting a car is more affordable.\"\n",
    "#If 'age' is less than 25 but greater than or equal to 18, print \"Renting a car is very expensive.\"\n",
    "# Finally, if age is less than 18, print \"You cannot legally rent a car.\"\n",
    "\n",
    "age = (int(input(\"Enter age:\")))\n",
    "\n",
    "if age >= 25:\n",
    "    print(\"Renting a car is more affordable.\")\n",
    "elif age >= 18:\n",
    "    print(\"Renting a car is expensive.\")\n",
    "else:\n",
    "    print(\"You cannot legally rent a car.\")"
   ]
  },
  {
   "cell_type": "code",
   "execution_count": 29,
   "metadata": {},
   "outputs": [
    {
     "name": "stdout",
     "output_type": "stream",
     "text": [
      "e u i o o u o e e a o \n",
      "43\n"
     ]
    }
   ],
   "source": [
    "#3 Loop over the following string to (1) count all the characters in the string\n",
    "#and (2) print out all the vowels -- \"The quick brown fox jumps over the lazy dog\"\n",
    "\n",
    "\"The quick brown fox jumps over the lazy dog\"\n",
    "count = 0\n",
    "\n",
    "for char in \"The quick brown fox jumps over the lazy dog\":\n",
    "    count += 1\n",
    "    if char in \"AEIOUaeiou\":\n",
    "        print(char, end=\" \")\n",
    "\n",
    "print()\n",
    "print(count)"
   ]
  },
  {
   "cell_type": "code",
   "execution_count": 30,
   "metadata": {},
   "outputs": [
    {
     "name": "stdout",
     "output_type": "stream",
     "text": [
      "trousers gunmetal blue\n",
      "trousers Dark Sapphire\n",
      "trousers burnt sienna\n",
      "trousers maple\n",
      "trousers fuchsia\n",
      "trousers auburn\n",
      "trousers aqua\n",
      "trousers cerise\n",
      "blouse gunmetal blue\n",
      "blouse Dark Sapphire\n",
      "blouse burnt sienna\n",
      "blouse maple\n",
      "blouse fuchsia\n",
      "blouse auburn\n",
      "blouse aqua\n",
      "blouse cerise\n",
      "bandana gunmetal blue\n",
      "bandana Dark Sapphire\n",
      "bandana burnt sienna\n",
      "bandana maple\n",
      "bandana fuchsia\n",
      "bandana auburn\n",
      "bandana aqua\n",
      "bandana cerise\n",
      "cumber band gunmetal blue\n",
      "cumber band Dark Sapphire\n",
      "cumber band burnt sienna\n",
      "cumber band maple\n",
      "cumber band fuchsia\n",
      "cumber band auburn\n",
      "cumber band aqua\n",
      "cumber band cerise\n",
      "blazer gunmetal blue\n",
      "blazer Dark Sapphire\n",
      "blazer burnt sienna\n",
      "blazer maple\n",
      "blazer fuchsia\n",
      "blazer auburn\n",
      "blazer aqua\n",
      "blazer cerise\n",
      "vest gunmetal blue\n",
      "vest Dark Sapphire\n",
      "vest burnt sienna\n",
      "vest maple\n",
      "vest fuchsia\n",
      "vest auburn\n",
      "vest aqua\n",
      "vest cerise\n",
      "french beret gunmetal blue\n",
      "french beret Dark Sapphire\n",
      "french beret burnt sienna\n",
      "french beret maple\n",
      "french beret fuchsia\n",
      "french beret auburn\n",
      "french beret aqua\n",
      "french beret cerise\n",
      "scarf gunmetal blue\n",
      "scarf Dark Sapphire\n",
      "scarf burnt sienna\n",
      "scarf maple\n",
      "scarf fuchsia\n",
      "scarf auburn\n",
      "scarf aqua\n",
      "scarf cerise\n",
      "stole gunmetal blue\n",
      "stole Dark Sapphire\n",
      "stole burnt sienna\n",
      "stole maple\n",
      "stole fuchsia\n",
      "stole auburn\n",
      "stole aqua\n",
      "stole cerise\n"
     ]
    }
   ],
   "source": [
    "#4 Write a nested loop that prints out every piece of clothing from the couture list, in every fashionable color from the panettone set:\n",
    "#couture = [\"trousers\", \"blouse\", \"bandana\", \"cumber band\", \"blazer\", \"vest\", \"french beret\", \"scarf\", \"stole\"]\n",
    "#and panettone = {\"cerise\", \"fuchsia\", \"aqua\", \"maple\", \"auburn\", \"burnt sienna\", \"gunmetal blue\", \"Dark Sapphire\"}\n",
    "\n",
    "couture = [\"trousers\", \"blouse\", \"bandana\", \"cumber band\", \"blazer\", \"vest\", \"french beret\", \"scarf\", \"stole\"]\n",
    "panettone = {\"cerise\", \"fuchsia\", \"aqua\", \"maple\", \"auburn\", \"burnt sienna\", \"gunmetal blue\", \"Dark Sapphire\"}\n",
    "\n",
    "for x in couture:\n",
    "    for y in panettone:\n",
    "        print(x, y)"
   ]
  },
  {
   "cell_type": "code",
   "execution_count": 31,
   "metadata": {},
   "outputs": [
    {
     "name": "stdout",
     "output_type": "stream",
     "text": [
      "5050\n"
     ]
    }
   ],
   "source": [
    "#5 Use range as a loop to calculate the sum of all the numbers from 1 to 100\n",
    "\n",
    "sumnumbers = 0\n",
    "\n",
    "for number in range(1,101):\n",
    "    sumnumbers += number\n",
    "\n",
    "print(sumnumbers)"
   ]
  },
  {
   "cell_type": "code",
   "execution_count": 33,
   "metadata": {},
   "outputs": [
    {
     "name": "stdout",
     "output_type": "stream",
     "text": [
      "banana\n"
     ]
    }
   ],
   "source": [
    "#6 Print the second item in this fruits list. [\"apple\", \"banana\", \"cherry\"]\n",
    "\n",
    "fruits = [\"apple\", \"banana\", \"cherry\"]\n",
    "print(fruits[1])"
   ]
  },
  {
   "cell_type": "code",
   "execution_count": 34,
   "metadata": {},
   "outputs": [
    {
     "name": "stdout",
     "output_type": "stream",
     "text": [
      "['kiwi', 'banana', 'cherry']\n"
     ]
    }
   ],
   "source": [
    "#7 Change the value from \"apple\" to \"kiwi\", in the fruits list. [\"apple\", \"banana\", \"cherry\"]\n",
    "\n",
    "fruits = [\"apple\", \"banana\", \"cherry\"]\n",
    "fruits[0] = \"kiwi\"\n",
    "print(fruits)"
   ]
  },
  {
   "cell_type": "code",
   "execution_count": 35,
   "metadata": {},
   "outputs": [
    {
     "name": "stdout",
     "output_type": "stream",
     "text": [
      "['apple', 'banana', 'cherry', 'orange']\n"
     ]
    }
   ],
   "source": [
    "#8. Use the append method to add \"orange\" to the fruits list. [\"apple\", \"banana\", \"cherry\"]\n",
    "\n",
    "fruits = [\"apple\", \"banana\", \"cherry\"]\n",
    "fruits.append(\"orange\")\n",
    "print(fruits)"
   ]
  },
  {
   "cell_type": "code",
   "execution_count": 36,
   "metadata": {},
   "outputs": [
    {
     "name": "stdout",
     "output_type": "stream",
     "text": [
      "['apple', 'lemon', 'banana', 'cherry']\n"
     ]
    }
   ],
   "source": [
    "#9 Use the insert method to add \"lemon\" as the second item in the fruits list. [\"apple\", \"banana\", \"cherry\"]\n",
    "\n",
    "fruits = [\"apple\", \"banana\", \"cherry\"]\n",
    "fruits.insert(1, \"lemon\")\n",
    "print(fruits)"
   ]
  },
  {
   "cell_type": "code",
   "execution_count": 37,
   "metadata": {},
   "outputs": [
    {
     "name": "stdout",
     "output_type": "stream",
     "text": [
      "['apple', 'cherry']\n"
     ]
    }
   ],
   "source": [
    "#10 Use the remove method to remove \"banana\" from the fruits list. [\"apple\", \"banana\", \"cherry\"]\n",
    "\n",
    "fruits = [\"apple\", \"banana\", \"cherry\"]\n",
    "fruits.remove(\"banana\")\n",
    "print(fruits)"
   ]
  },
  {
   "cell_type": "code",
   "execution_count": 39,
   "metadata": {},
   "outputs": [
    {
     "name": "stdout",
     "output_type": "stream",
     "text": [
      "kiwi\n",
      "melon\n"
     ]
    }
   ],
   "source": [
    "#11 Use negative indexing to print the 3rd and 2nd to last items in the list. \n",
    "#[\"apple\", \"banana\", \"cherry\", \"orange\", \"kiwi\", \"melon\", \"mango\"]\n",
    "\n",
    "fruits = [\"apple\", \"banana\", \"cherry\", \"orange\", \"kiwi\", \"melon\", \"mango\"]\n",
    "print(fruits[-3])\n",
    "print(fruits[-2])\n"
   ]
  },
  {
   "cell_type": "code",
   "execution_count": 40,
   "metadata": {},
   "outputs": [
    {
     "data": {
      "text/plain": [
       "['cherry', 'orange', 'kiwi']"
      ]
     },
     "execution_count": 40,
     "metadata": {},
     "output_type": "execute_result"
    }
   ],
   "source": [
    "#12 Use a range of indexes to print the third, fourth, and fifth item in the list. \n",
    "#[\"apple\", \"banana\", \"cherry\", \"orange\", \"kiwi\", \"melon\", \"mango\"]\n",
    "\n",
    "fruits = [\"apple\", \"banana\", \"cherry\", \"orange\", \"kiwi\", \"melon\", \"mango\"]\n",
    "fruits[2:5]\n"
   ]
  },
  {
   "cell_type": "code",
   "execution_count": 41,
   "metadata": {},
   "outputs": [
    {
     "name": "stdout",
     "output_type": "stream",
     "text": [
      "7\n"
     ]
    }
   ],
   "source": [
    "#13 Use the correct syntax to print the number of items in the list. \n",
    "#[\"apple\", \"banana\", \"cherry\", \"orange\", \"kiwi\", \"melon\", \"mango\"]\n",
    "\n",
    "fruits = [\"apple\", \"banana\", \"cherry\", \"orange\", \"kiwi\", \"melon\", \"mango\"]\n",
    "print(len(fruits))\n"
   ]
  },
  {
   "cell_type": "code",
   "execution_count": 42,
   "metadata": {},
   "outputs": [
    {
     "name": "stdout",
     "output_type": "stream",
     "text": [
      "['orange', 'melon', 'mango', 'kiwi', 'cherry', 'banana', 'apple']\n"
     ]
    }
   ],
   "source": [
    "#14Use the correct syntax to sort this list in reverse order \n",
    "#[\"apple\", \"banana\", \"cherry\", \"orange\", \"kiwi\", \"melon\", \"mango\"]\n",
    "\n",
    "fruits = [\"apple\", \"banana\", \"cherry\", \"orange\", \"kiwi\", \"melon\", \"mango\"]\n",
    "fruits.sort(reverse=True)\n",
    "print(fruits)"
   ]
  },
  {
   "cell_type": "markdown",
   "metadata": {},
   "source": [
    "#**Use a Python code file for this section**"
   ]
  },
  {
   "cell_type": "code",
   "execution_count": 43,
   "metadata": {},
   "outputs": [
    {
     "name": "stdout",
     "output_type": "stream",
     "text": [
      "August\n"
     ]
    }
   ],
   "source": [
    "#15 Use the DateTime module to get Current Date and Time, and save it to a variable. Then extract just the Full month name form that variable.\n",
    "\n",
    "import datetime\n",
    "now = datetime.datetime.now()\n",
    "print(now.strftime(\"%B\"))\n"
   ]
  },
  {
   "cell_type": "code",
   "execution_count": null,
   "metadata": {},
   "outputs": [],
   "source": [
    "#16 Write a simple function that takes 2 parameters -- a first name and a day name.\n",
    "#Set a default value for the day name of Sunday.\n",
    "#Have the function print out a greeting -- using the parameters -- that says something like \"Hi first-name! Happy day-name!\". Remember to use the variables in the greeting to replace first-name and day-name.\n",
    "#Invoke this function with 2 variables.\n",
    "#Invoke this function with 1 variable only.\n",
    "\n",
    "\n",
    "\n"
   ]
  }
 ],
 "metadata": {
  "kernelspec": {
   "display_name": "Python 3",
   "language": "python",
   "name": "python3"
  },
  "language_info": {
   "codemirror_mode": {
    "name": "ipython",
    "version": 3
   },
   "file_extension": ".py",
   "mimetype": "text/x-python",
   "name": "python",
   "nbconvert_exporter": "python",
   "pygments_lexer": "ipython3",
   "version": "3.11.4"
  },
  "orig_nbformat": 4
 },
 "nbformat": 4,
 "nbformat_minor": 2
}
