{
 "cells": [
  {
   "cell_type": "code",
   "execution_count": null,
   "metadata": {},
   "outputs": [],
   "source": []
  },
  {
   "cell_type": "markdown",
   "metadata": {},
   "source": [
    "#1. What is an algorithm?\n",
    "\n",
    "##An algorithm is a set of instructions that can be followed to solve a problem.\n",
    "\n",
    "#2. Varibale names may not start with certain characters - name two.\n",
    "\n",
    "##Variable names may not start with a number or a special character.\n",
    "\n",
    "#3. What is a Semantic error?\n",
    "\n",
    "##A semantic error is when the code is grammatically correct but the result is not what was intended. It does not produce the expected result.\n",
    "\n",
    "#4. What is the #1 rule of coding/debugging?\n",
    "\n",
    "##The #1 Rule: Complexity is the enemy of efficiency.\n",
    "\n",
    "#5. List 5 Python reserved words.\n",
    "\n",
    "##def, del, elif, else, except\n",
    "\n"
   ]
  },
  {
   "cell_type": "code",
   "execution_count": null,
   "metadata": {},
   "outputs": [],
   "source": [
    "#6\n",
    "\"\"\"\n",
    "My name is Jenn.\n",
    "My favorite food is tacos.\n",
    "My dream job is to be a data scientist.\n",
    "\"\"\"\n"
   ]
  },
  {
   "cell_type": "code",
   "execution_count": 3,
   "metadata": {},
   "outputs": [
    {
     "name": "stdout",
     "output_type": "stream",
     "text": [
      "The lenght of my string is 71\n",
      "element 4 is o\n"
     ]
    }
   ],
   "source": [
    "#7\n",
    "my_string = \"Life is like a box of chocolates. You never know what you're gonna get.\" \n",
    "my_numeric = 5\n",
    "my_list = [\"red\", \"reputation\", \"1989\", \"speak now\", \"fearless\", \"taylor swift\"]\n",
    "my_tuple = (\"red\", \"reputation\", \"1989\", \"speak now\", \"fearless\", \"taylor swift\")\n",
    "my_dictionary = {\"red\": \"2012\", \"reputation\": \"2017\", \"1989\": \"2014\", \"speak now\": \"2010\", \"fearless\": \"2008\", \"taylor swift\": \"2006\"}\n",
    "\n",
    "print(\"The lenght of my string is\", len(my_string))\n",
    "\n",
    "str1 = \"chocolate\"\n",
    "print (\"element 4 is\", str1[4])\n",
    "\n"
   ]
  },
  {
   "cell_type": "code",
   "execution_count": 2,
   "metadata": {},
   "outputs": [
    {
     "name": "stdout",
     "output_type": "stream",
     "text": [
      "ing Data Analytics \n",
      "Learning Data Analytics and Python is Great!\n"
     ]
    }
   ],
   "source": [
    "#8\n",
    "savvy = \"Learning Data Analytics and Python is Awesome!\"\n",
    "print(savvy[5:-22])\n",
    "print(savvy.replace(\"Awesome\", \"Great\"))\n"
   ]
  },
  {
   "cell_type": "code",
   "execution_count": null,
   "metadata": {},
   "outputs": [],
   "source": [
    "#9\n",
    "name, age, length = \"Jenn Acosta\", 31, 5.2\n",
    "\n",
    "miniBio = (\n",
    "    f\"Hi, my name is {name} and I am {age} years old. I am {length} feet tall.\"\n",
    ")\n",
    "print(miniBio)\n",
    "\n",
    "age = 31\n",
    "age_float = float(age)\n",
    "print(age_float)"
   ]
  },
  {
   "cell_type": "code",
   "execution_count": null,
   "metadata": {},
   "outputs": [],
   "source": [
    "#10\n",
    "mixed_list = [22,\"Red\", 8.8, False,[5,6,7,8]]\n",
    "print(mixed_list)\n",
    "\n",
    "mixed_list [1:3] = [\"Blue\", 9.9]\n",
    "print(mixed_list)\n",
    "\n",
    "mixed_list = [22,\"Red\", 8.8, False,[5,6,7,8]]\n",
    "mixed_list.append(\"Green\")\n",
    "print(mixed_list)\n",
    "\n",
    "second_list = [44, \"Yellow\", 9.9, True, [9,10,11,12]]\n",
    "mixed_list.extend(second_list)\n",
    "print(mixed_list)\n",
    "\n",
    "mixed_list = len(mixed_list)\n",
    "print(\"Size of the list =\", mixed_list)\n",
    "\n",
    "mixed_list = [22,\"Red\", 8.8, False,[5,6,7,8]]\n",
    "start_index = 1\n",
    "end_index = 3\n",
    "other_list = mixed_list[start_index:end_index]\n",
    "print(other_list)\n",
    "\n",
    "mixed_list.extend(other_list)\n",
    "print(mixed_list)\n",
    "\n",
    "simList = [16, 8, 4, 2, 1]\n",
    "simList.sort()\n",
    "print(simList)   \n",
    "\n",
    "third_list = simList.copy()\n",
    "print(third_list)\n",
    "\n",
    "fourth_list = second_list + third_list\n",
    "print(fourth_list)\n"
   ]
  },
  {
   "cell_type": "code",
   "execution_count": null,
   "metadata": {},
   "outputs": [],
   "source": [
    "#11\n",
    "my_tuple = (1, 2, 3, 4, 5, 6, 7, 8, 9, 10)\n",
    "timesTuple = my_tuple * 3\n",
    "print(timesTuple)\n",
    "\n",
    "print (timesTuple[12])\n",
    "\n",
    "sortedTuple = sorted(timesTuple)\n",
    "print(sortedTuple)\n",
    "\n",
    "third_tuple = timesTuple[3], timesTuple[4], timesTuple[5], timesTuple[6]\n",
    "print(third_tuple)\n",
    "\n",
    "var1, var2, var3, var4 = third_tuple\n",
    "print(var1)\n",
    "print(var2)\n",
    "print(var3)\n",
    "print(var4)\n",
    "\n",
    "fourth_tuple = (50,)\n",
    "print(fourth_tuple)\n",
    "\n",
    "fifth_tuple = my_tuple + timesTuple\n",
    "print(fifth_tuple)"
   ]
  },
  {
   "cell_type": "code",
   "execution_count": null,
   "metadata": {},
   "outputs": [],
   "source": [
    "#12\n",
    "jennset = {\"midnight\", \"moonlight\", \"goodnight\"}\n",
    "fruitset = {\"mango\", \"apple\", \"banana\"}\n",
    "theset = jennset.union(fruitset)\n",
    "print(theset)\n",
    "\n",
    "theset.add(\"chassis\")\n",
    "print(theset)\n",
    "\n",
    "oddset = {\"headphones\", \"notebook\", \"pencil\"}\n",
    "\n",
    "thirdset = theset.union(oddset)\n",
    "print(thirdset)\n",
    "\n",
    "oddset.remove(\"headphones\")\n",
    "print(oddset)\n",
    "\n",
    "theset.clear()\n",
    "print(theset)\n",
    "\n",
    "thirdset.discard(\"notebook\")\n",
    "print(thirdset)\n",
    "\n",
    "thirdset.pop()\n",
    "print(thirdset)\n"
   ]
  },
  {
   "cell_type": "code",
   "execution_count": null,
   "metadata": {},
   "outputs": [],
   "source": [
    "#13\n",
    "my_dictionary = {\"name\": \"Jenn\",\n",
    "                 \"age\": 31, \n",
    "                 \"hobbies\": [\"reading\", \"crocheting\", \"coding\"],\n",
    "                 \"kids\": 1,\n",
    "                 \"body temp\": 98.6,\n",
    "                 \"married\": True}\n",
    "print(my_dictionary)\n",
    "\n",
    "print(my_dictionary[\"hobbies\"])\n",
    "\n",
    "my_dictionary.update({\"name\": \"Jennifer\"})\n",
    "print(my_dictionary)\n",
    "\n",
    "my_dictionary.update({\"color\": \"pink\"})\n",
    "print(my_dictionary)\n",
    "\n",
    "my_dictionary[\"food\"] = [\"tacos\", \"noodles\", \"bbq\"]\n",
    "\n",
    "print (my_dictionary)\n",
    "\n",
    "keyslist = list(my_dictionary.keys())\n",
    "print (keyslist)\n",
    "\n",
    "valueslist = list(my_dictionary.values())\n",
    "print(valueslist)\n",
    "\n",
    "\n",
    "dict2 = my_dictionary.copy()\n",
    "print (dict2)\n",
    "\n",
    "dict2.popitem()\n",
    "print(dict2)\n",
    "\n",
    "dict2.clear()\n",
    "print(dict2)\n"
   ]
  }
 ],
 "metadata": {
  "kernelspec": {
   "display_name": "Python 3",
   "language": "python",
   "name": "python3"
  },
  "language_info": {
   "codemirror_mode": {
    "name": "ipython",
    "version": 3
   },
   "file_extension": ".py",
   "mimetype": "text/x-python",
   "name": "python",
   "nbconvert_exporter": "python",
   "pygments_lexer": "ipython3",
   "version": "3.11.4"
  },
  "orig_nbformat": 4
 },
 "nbformat": 4,
 "nbformat_minor": 2
}
