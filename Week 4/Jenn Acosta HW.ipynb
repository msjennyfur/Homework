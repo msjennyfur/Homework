{
 "cells": [
  {
   "cell_type": "code",
   "execution_count": null,
   "metadata": {},
   "outputs": [],
   "source": []
  },
  {
   "cell_type": "markdown",
   "metadata": {},
   "source": [
    "#1.What does one need to do to use a module?\n",
    "\n",
    "###If we want to ise code from a module or a library, we need to import it the respective module into our code-base.\n",
    "\n",
    "#2.Name a Module (not the DateTime Module) we looked at and write a line or 2 as a example using this module.\n",
    "\n",
    "###We looked at the math module. We can use the math module to do math operations such as square root, pi, etc.\n",
    "\n",
    "#3.What is a benefit of using exception handling?\n",
    "\n",
    "###Exception handling is a way to handle errors in a way that doesn't break the program. It allows the program to continue running even if there is an error.\n",
    "\n",
    "#4.What are the 4 components used for Python Exception Handling?\n",
    "\n",
    "###The 4 components used for Python Exception Handling are try, except, else, and finally.\n",
    "\n",
    "#5.NumPy arrays are like what Python data type?\n",
    "\n",
    "###NumPy arrays are like Python lists.\n",
    "\n",
    "#6.What is one of the main benefits of using NumPy arrays.\n",
    "\n",
    "###One of the main benefits of using NumPy arrays is that they are faster than Python lists.\n",
    "\n",
    "#7.What is one of the main requirements about the 'dtype' of NumPy arrays?\n",
    "\n",
    "###One of the main requirements about the 'dtype' of NumPy arrays is that all elements in the array must be of the same data type.\n",
    "\n",
    "#8.Of the 10 uses of NumPy, name 2.\n",
    "\n",
    "###Two uses of NumPy are to perform mathematical and logical operations on arrays and to manipulate arrays.\n",
    "\n",
    "#9.Name one of the other libraries we'll use with NumPy?\n",
    "\n",
    "###One of the other libraries we'll use with NumPy is Pandas, SciPy, and Matplotlib.\n",
    "\n",
    "#10.What is the shape of NumPy arrays?\n",
    "\n",
    "###The number of dimensions and items in an array is defines its shape.\n",
    "\n",
    "#11.What is a Tensor?\n",
    "\n",
    "###A tensor is a multidimensional array.\n",
    "\n",
    "#12.Name a reason why it's better using NumPy for Data Analysis than using a Python List?\n",
    "\n",
    "###It's better using NumPy for Data Analysis than using a Python List because NumPy is faster than Python lists.\n",
    "\n",
    "#13.When creating an \"empty\" array, where do the elements come from?\n",
    "\n",
    "###When creating an \"empty\" array, the elements come from the memory.\n",
    "\n"
   ]
  },
  {
   "cell_type": "code",
   "execution_count": 20,
   "metadata": {},
   "outputs": [
    {
     "name": "stdout",
     "output_type": "stream",
     "text": [
      "Renting a car is expensive\n"
     ]
    }
   ],
   "source": [
    "\n",
    "age = (int(input(\"Enter age:\")))\n",
    "\n",
    "if age >= 25:\n",
    "    print(\"Renting a car is more affordable\")\n",
    "else:\n",
    "    print(\"Renting a car is expensive\")"
   ]
  },
  {
   "cell_type": "code",
   "execution_count": null,
   "metadata": {},
   "outputs": [],
   "source": [
    "age = (int(input(\"Enter age:\")))\n",
    "\n",
    "if "
   ]
  }
 ],
 "metadata": {
  "kernelspec": {
   "display_name": "Python 3",
   "language": "python",
   "name": "python3"
  },
  "language_info": {
   "codemirror_mode": {
    "name": "ipython",
    "version": 3
   },
   "file_extension": ".py",
   "mimetype": "text/x-python",
   "name": "python",
   "nbconvert_exporter": "python",
   "pygments_lexer": "ipython3",
   "version": "3.11.4"
  },
  "orig_nbformat": 4
 },
 "nbformat": 4,
 "nbformat_minor": 2
}
