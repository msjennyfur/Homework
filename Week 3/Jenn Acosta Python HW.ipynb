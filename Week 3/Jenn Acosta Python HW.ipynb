{
 "cells": [
  {
   "cell_type": "code",
   "execution_count": null,
   "metadata": {},
   "outputs": [],
   "source": []
  },
  {
   "cell_type": "markdown",
   "metadata": {},
   "source": [
    "#What is an algorithm?\n",
    "\n",
    "##An algorithm is a set of instructions that can be followed to solve a problem.\n",
    "\n",
    "#Varibale names may not start with certain characters - name two.\n",
    "\n",
    "##Variable names may not start with a number or a special character.\n",
    "\n",
    "#What is a Semantic error?\n",
    "\n",
    "##A semantic error is when the code is grammatically correct but the result is not what was intended. It does not produce the expected result.\n",
    "\n",
    "#What is the #1 rule of coding/debugging?\n",
    "\n",
    "##The #1 Rule: Complexity is the enemy of efficiency.\n",
    "\n",
    "#List 5 Python reserved words.\n",
    "\n",
    "##False, None, True, and, as, assert, break, class, continue, def, del, elif, else, except, finally, for, from, global, if, import, in, is, lambda, nonlocal, not, or, pass, raise, return, try, while, with, yield\n",
    "\n"
   ]
  },
  {
   "cell_type": "code",
   "execution_count": null,
   "metadata": {},
   "outputs": [
    {
     "name": "stdout",
     "output_type": "stream",
     "text": [
      "My name is Jenn. My favorite food is tacos. My dream job is to be a data scientist.\n"
     ]
    }
   ],
   "source": [
    "Intro = \"My name is Jenn.\"\n",
    "Food =\"My favorite food is tacos.\"\n",
    "Dream = \"My dream job is to be a data scientist.\"\n",
    "\"\"\"\n",
    "I'm not sure \n",
    "if this is a comment\n",
    "but I know it's a string\n",
    "\"\"\"\n",
    "print(Intro,Food, Dream)"
   ]
  },
  {
   "cell_type": "code",
   "execution_count": null,
   "metadata": {},
   "outputs": [
    {
     "name": "stdout",
     "output_type": "stream",
     "text": [
      "The lenght of my string is 12\n"
     ]
    }
   ],
   "source": [
    "my_string = \"Life is good\" \n",
    "my_numeric = 5\n",
    "my_list = [\"red\", \"reputation\", \"1989\", \"speak now\", \"fearless\", \"taylor swift\"]\n",
    "my_tuple = (\"red\", \"reputation\", \"1989\", \"speak now\", \"fearless\", \"taylor swift\")\n",
    "my_dictionary = {\"red\": \"2012\", \"reputation\": \"2017\", \"1989\": \"2014\", \"speak now\": \"2010\", \"fearless\": \"2008\", \"taylor swift\": \"2006\"}\n",
    "\n",
    "print(\"The lenght of my string is\", len(my_string))\n",
    "\n",
    "str1 = \"Life\"\n",
    "print (\"element 4 is\", str1[4])\n",
    "\n"
   ]
  },
  {
   "cell_type": "code",
   "execution_count": null,
   "metadata": {},
   "outputs": [],
   "source": [
    "savvy = \"Learning Data Analytics and Python is Awesome!\"\n",
    "print(savvy[6:-9])"
   ]
  }
 ],
 "metadata": {
  "kernelspec": {
   "display_name": "Python 3",
   "language": "python",
   "name": "python3"
  },
  "language_info": {
   "codemirror_mode": {
    "name": "ipython",
    "version": 3
   },
   "file_extension": ".py",
   "mimetype": "text/x-python",
   "name": "python",
   "nbconvert_exporter": "python",
   "pygments_lexer": "ipython3",
   "version": "3.11.4"
  },
  "orig_nbformat": 4
 },
 "nbformat": 4,
 "nbformat_minor": 2
}
